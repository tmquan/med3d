{
 "cells": [
  {
   "cell_type": "code",
   "execution_count": 1,
   "metadata": {},
   "outputs": [],
   "source": [
    "import cv2\n",
    "import torch\n",
    "import torchvision\n",
    "from tqdm import tqdm\n",
    "import numpy as np\n",
    "from IPython.display import Image\n",
    "from monai.transforms import (\n",
    "    apply_transform,\n",
    "    Randomizable,\n",
    "    Compose,\n",
    "    OneOf,\n",
    "    EnsureChannelFirstDict,\n",
    "    LoadImageDict,\n",
    "    SpacingDict,\n",
    "    OrientationDict,\n",
    "    DivisiblePadDict,\n",
    "    CropForegroundDict,\n",
    "    ResizeDict,\n",
    "    RandZoomDict,\n",
    "    ZoomDict,\n",
    "    RandRotateDict,\n",
    "    HistogramNormalizeDict,\n",
    "    ScaleIntensityDict,\n",
    "    ScaleIntensityRangeDict,\n",
    "    ToTensorDict,\n",
    "    Transform\n",
    ")"
   ]
  },
  {
   "cell_type": "code",
   "execution_count": 2,
   "metadata": {},
   "outputs": [],
   "source": [
    "%%bash\n",
    "mkdir -p vis"
   ]
  },
  {
   "cell_type": "code",
   "execution_count": 3,
   "metadata": {},
   "outputs": [],
   "source": [
    "import os\n",
    "import glob\n",
    "from tqdm.auto import tqdm"
   ]
  },
  {
   "cell_type": "code",
   "execution_count": 4,
   "metadata": {},
   "outputs": [],
   "source": [
    "def glob_files(folders: str = None, extension: str = \"*.nii.gz\"):\n",
    "    assert folders is not None\n",
    "    paths = [\n",
    "        glob.glob(os.path.join(folder, extension), recursive=True)\n",
    "        for folder in folders\n",
    "    ]\n",
    "    files = sorted([item for sublist in paths for item in sublist])\n",
    "    print(len(files))\n",
    "    print(files[:1])\n",
    "    return files"
   ]
  },
  {
   "cell_type": "code",
   "execution_count": 5,
   "metadata": {},
   "outputs": [
    {
     "name": "stdout",
     "output_type": "stream",
     "text": [
      "402\n",
      "['data/ChestXRLungSegmentation/NSCLC/processed/train/images/LUNG1-001_0000.nii.gz']\n"
     ]
    }
   ],
   "source": [
    "ct_folders = [\n",
    "    \"data/ChestXRLungSegmentation/NSCLC/processed/train/images\",\n",
    "]\n",
    "ct_images = glob_files(\n",
    "    ct_folders, \n",
    "    extension=\"*.nii.gz\"\n",
    ")"
   ]
  },
  {
   "cell_type": "code",
   "execution_count": 6,
   "metadata": {},
   "outputs": [],
   "source": [
    "class UnSqueezeDim(Transform):\n",
    "    \"\"\"\n",
    "    Squeeze unnecessary unitary dimensions\n",
    "    \"\"\"\n",
    "\n",
    "    def __init__(self, dim=None):\n",
    "        \"\"\"\n",
    "        Args:\n",
    "            dim (int): dimension to be squeezed.\n",
    "                Default: None (all dimensions of size 1 will be removed)\n",
    "        \"\"\"\n",
    "        if dim is not None:\n",
    "            assert isinstance(dim, int) and dim >= -1, 'invalid channel dimension.'\n",
    "        self.dim = dim\n",
    "\n",
    "    def __call__(self, img):\n",
    "        \"\"\"\n",
    "        Args:\n",
    "            data (dict): dictionary of numpy arrays with dim removed,\n",
    "        \"\"\"\n",
    "        return np.expand_dims(img, self.dim)\n",
    "\n",
    "class SqueezeDim(Transform):\n",
    "    \"\"\"\n",
    "    Squeeze unnecessary unitary dimensions\n",
    "    \"\"\"\n",
    "\n",
    "    def __init__(self, dim=None):\n",
    "        \"\"\"\n",
    "        Args:\n",
    "            dim (int): dimension to be squeezed.\n",
    "                Default: None (all dimensions of size 1 will be removed)\n",
    "        \"\"\"\n",
    "        if dim is not None:\n",
    "            assert isinstance(dim, int) and dim >= -1, 'invalid channel dimension.'\n",
    "        self.dim = dim\n",
    "\n",
    "    def __call__(self, img):\n",
    "        \"\"\"\n",
    "        Args:\n",
    "            data (dict): dictionary of numpy arrays with dim removed,\n",
    "        \"\"\"\n",
    "        return np.squeeze(img, self.dim)"
   ]
  },
  {
   "cell_type": "code",
   "execution_count": 7,
   "metadata": {},
   "outputs": [
    {
     "name": "stderr",
     "output_type": "stream",
     "text": [
      "/home/quantm/anaconda3/envs/py310/lib/python3.10/site-packages/monai/utils/deprecate_utils.py:321: FutureWarning: monai.transforms.croppad.dictionary CropForegroundd.__init__:allow_smaller: Current default value of argument `allow_smaller=True` has been deprecated since version 1.2. It will be changed to `allow_smaller=False` in version 1.5.\n",
      "  warn_deprecated(argname, msg, warning_category)\n"
     ]
    },
    {
     "name": "stdout",
     "output_type": "stream",
     "text": [
      "Loading..  unet3d.ckpt\n"
     ]
    },
    {
     "name": "stderr",
     "output_type": "stream",
     "text": [
      "/home/quantm/anaconda3/envs/py310/lib/python3.10/site-packages/pytorch3d/renderer/implicit/raymarching.py:188: UserWarning: One or more elements of rays_densities are outside of validrange (0.0, 1.0)\n",
      "  warnings.warn(\n"
     ]
    },
    {
     "data": {
      "image/png": "[encoded data removed]",
      "text/plain": [
       "<IPython.core.display.Image object>"
      ]
     },
     "execution_count": 7,
     "metadata": {},
     "output_type": "execute_result"
    }
   ],
   "source": [
    "# Define the transformation pipeline for \"image2d\"\n",
    "val_transforms_asl = Compose(\n",
    "    [\n",
    "        LoadImageDict(keys=[\"image3d\"]),\n",
    "        EnsureChannelFirstDict(keys=[\"image3d\"],),\n",
    "        SpacingDict(\n",
    "            keys=[\"image3d\"],\n",
    "            pixdim=(1.0, 1.0, 1.0),\n",
    "            mode=[\"bilinear\"],\n",
    "            align_corners=True,\n",
    "        ),\n",
    "        OrientationDict(keys=(\"image3d\"), axcodes=\"ASL\"),\n",
    "        ScaleIntensityRangeDict(\n",
    "            keys=[\"image3d\"],\n",
    "            clip=True,\n",
    "            a_min=-1024,\n",
    "            a_max=+3071,\n",
    "            b_min=0.0,\n",
    "            b_max=1.0,\n",
    "        ),\n",
    "        CropForegroundDict(\n",
    "            keys=[\"image3d\"],\n",
    "            source_key=\"image3d\",\n",
    "            select_fn=(lambda x: x > 0),\n",
    "            margin=0,\n",
    "        ),\n",
    "        ZoomDict(keys=[\"image3d\"], zoom=0.95, padding_mode=\"constant\", mode=[\"area\"]),\n",
    "        ResizeDict(\n",
    "            keys=[\"image3d\"],\n",
    "            spatial_size=256,\n",
    "            size_mode=\"longest\",\n",
    "            mode=[\"trilinear\"],\n",
    "            align_corners=True,\n",
    "        ),\n",
    "        DivisiblePadDict(\n",
    "            keys=[\"image3d\"],\n",
    "            k=256,\n",
    "            mode=\"constant\",\n",
    "            constant_values=0,\n",
    "        ),\n",
    "        ToTensorDict(keys=[\"image3d\"],),\n",
    "    ]\n",
    ")\n",
    "\n",
    "from nvlitmodel import NVLightningModule, make_cameras_dea\n",
    "from dvr.renderer import ReverseXRayVolumeRenderer, ForwardXRayVolumeRenderer\n",
    "# Run forward pass\n",
    "device = torch.device('cuda:0')\n",
    "B = 1\n",
    "checkpoint_path = \"test.ckpt\"\n",
    "model = NVLightningModule.load_from_checkpoint(checkpoint_path, strict=False).to(device)\n",
    "model.fwd_renderer = ReverseXRayVolumeRenderer(\n",
    "    image_width=256,\n",
    "    image_height=256,\n",
    "    n_pts_per_ray=400,\n",
    "    min_depth=6.1,\n",
    "    max_depth=9.9,\n",
    "    ndc_extent=1.0,\n",
    ")\n",
    "dist_hidden = 8 * torch.ones(B, device=device)\n",
    "elev_hidden = torch.zeros(B, device=device)\n",
    "azim_hidden = torch.zeros(B, device=device)\n",
    "view_hidden = make_cameras_dea(\n",
    "    dist_hidden, \n",
    "    elev_hidden, \n",
    "    azim_hidden, \n",
    "    fov=16.0, \n",
    "    znear=6.1, \n",
    "    zfar=9.9,\n",
    ").to(device)\n",
    "\n",
    "data = {}\n",
    "data[\"image3d\"] = ct_images[1]\n",
    "image3d = val_transforms_asl(data)\n",
    "\n",
    "image3d = image3d[\"image3d\"].to(device)\n",
    "image3d = image3d.unsqueeze(0)\n",
    "# print(image3d.shape)\n",
    "\n",
    "output = model.forward_screen(\n",
    "    image3d=image3d, \n",
    "    cameras=view_hidden, \n",
    ").clamp_(0, 1).squeeze().detach().cpu()\n",
    "output = (255*output).astype(torch.uint8).unsqueeze(0) #.transpose(-1, -2)\n",
    "# print(output.shape)\n",
    "\n",
    "torchvision.io.write_png(output, f\"vis/reverse_asl.png\")\n",
    "Image(filename=\"vis/reverse_asl.png\")"
   ]
  },
  {
   "cell_type": "code",
   "execution_count": 10,
   "metadata": {},
   "outputs": [
    {
     "name": "stderr",
     "output_type": "stream",
     "text": [
      "/home/quantm/anaconda3/envs/py310/lib/python3.10/site-packages/monai/utils/deprecate_utils.py:321: FutureWarning: monai.transforms.croppad.dictionary CropForegroundd.__init__:allow_smaller: Current default value of argument `allow_smaller=True` has been deprecated since version 1.2. It will be changed to `allow_smaller=False` in version 1.5.\n",
      "  warn_deprecated(argname, msg, warning_category)\n"
     ]
    },
    {
     "name": "stdout",
     "output_type": "stream",
     "text": [
      "Loading..  unet3d.ckpt\n",
      "ForwardXRayVolumeRenderer()\n",
      "False\n"
     ]
    },
    {
     "name": "stderr",
     "output_type": "stream",
     "text": [
      "/home/quantm/anaconda3/envs/py310/lib/python3.10/site-packages/pytorch3d/renderer/implicit/raymarching.py:188: UserWarning: One or more elements of rays_densities are outside of validrange (0.0, 1.0)\n",
      "  warnings.warn(\n"
     ]
    },
    {
     "data": {
      "image/png": "[encoded data removed]",
      "text/plain": [
       "<IPython.core.display.Image object>"
      ]
     },
     "execution_count": 10,
     "metadata": {},
     "output_type": "execute_result"
    }
   ],
   "source": [
    "# Define the transformation pipeline for \"image2d\"\n",
    "val_transforms_asl = Compose(\n",
    "    [\n",
    "        LoadImageDict(keys=[\"image3d\"]),\n",
    "        EnsureChannelFirstDict(keys=[\"image3d\"],),\n",
    "        SpacingDict(\n",
    "            keys=[\"image3d\"],\n",
    "            pixdim=(1.0, 1.0, 1.0),\n",
    "            mode=[\"bilinear\"],\n",
    "            align_corners=True,\n",
    "        ),\n",
    "        OrientationDict(keys=(\"image3d\"), axcodes=\"ASL\"),\n",
    "        ScaleIntensityRangeDict(\n",
    "            keys=[\"image3d\"],\n",
    "            clip=True,\n",
    "            a_min=-1024,\n",
    "            a_max=+3071,\n",
    "            b_min=0.0,\n",
    "            b_max=1.0,\n",
    "        ),\n",
    "        CropForegroundDict(\n",
    "            keys=[\"image3d\"],\n",
    "            source_key=\"image3d\",\n",
    "            select_fn=(lambda x: x > 0),\n",
    "            margin=0,\n",
    "        ),\n",
    "        ZoomDict(keys=[\"image3d\"], zoom=0.95, padding_mode=\"constant\", mode=[\"area\"]),\n",
    "        ResizeDict(\n",
    "            keys=[\"image3d\"],\n",
    "            spatial_size=256,\n",
    "            size_mode=\"longest\",\n",
    "            mode=[\"trilinear\"],\n",
    "            align_corners=True,\n",
    "        ),\n",
    "        DivisiblePadDict(\n",
    "            keys=[\"image3d\"],\n",
    "            k=256,\n",
    "            mode=\"constant\",\n",
    "            constant_values=0,\n",
    "        ),\n",
    "        ToTensorDict(keys=[\"image3d\"],),\n",
    "    ]\n",
    ")\n",
    "\n",
    "from nvlitmodel import NVLightningModule, make_cameras_dea\n",
    "from dvr.renderer import ReverseXRayVolumeRenderer, ForwardXRayVolumeRenderer\n",
    "# Run forward pass\n",
    "device = torch.device('cuda:0')\n",
    "B = 1\n",
    "checkpoint_path = \"test.ckpt\"\n",
    "model = NVLightningModule.load_from_checkpoint(checkpoint_path, strict=False).to(device)\n",
    "model.fwd_renderer = ForwardXRayVolumeRenderer(\n",
    "    image_width=256,\n",
    "    image_height=256,\n",
    "    n_pts_per_ray=400,\n",
    "    min_depth=6.1,\n",
    "    max_depth=9.9,\n",
    "    ndc_extent=1.0,\n",
    ")\n",
    "print(model.fwd_renderer)\n",
    "dist_hidden = 8 * torch.ones(B, device=device)\n",
    "elev_hidden = torch.zeros(B, device=device)\n",
    "azim_hidden = torch.zeros(B, device=device)\n",
    "view_hidden = make_cameras_dea(\n",
    "    dist_hidden, \n",
    "    elev_hidden, \n",
    "    azim_hidden, \n",
    "    fov=16.0, \n",
    "    znear=6.1, \n",
    "    zfar=9.9,\n",
    ").to(device)\n",
    "\n",
    "data = {}\n",
    "data[\"image3d\"] = ct_images[1]\n",
    "image3d = val_transforms_asl(data)\n",
    "\n",
    "image3d = image3d[\"image3d\"].to(device)\n",
    "image3d = image3d.unsqueeze(0)\n",
    "\n",
    "output = model.forward_screen(\n",
    "    image3d=image3d, \n",
    "    cameras=view_hidden, \n",
    ").clamp_(0, 1).squeeze().detach().cpu()\n",
    "output = (255*output).astype(torch.uint8).unsqueeze(0) #.transpose(-1, -2)\n",
    "\n",
    "torchvision.io.write_png(output, f\"vis/forward_asl.png\")\n",
    "\n",
    "Image(filename=\"vis/forward_asl.png\")"
   ]
  },
  {
   "cell_type": "code",
   "execution_count": 11,
   "metadata": {},
   "outputs": [
    {
     "name": "stdout",
     "output_type": "stream",
     "text": [
      "Binary files vis/forward_asl.png and vis/reverse_asl.png differ\n"
     ]
    },
    {
     "ename": "CalledProcessError",
     "evalue": "Command 'b'diff vis/forward_asl.png vis/reverse_asl.png\\n'' returned non-zero exit status 1.",
     "output_type": "error",
     "traceback": [
      "\u001b[0;31m---------------------------------------------------------------------------\u001b[0m",
      "\u001b[0;31mCalledProcessError\u001b[0m                        Traceback (most recent call last)",
      "Cell \u001b[0;32mIn[11], line 1\u001b[0m\n\u001b[0;32m----> 1\u001b[0m \u001b[43mget_ipython\u001b[49m\u001b[43m(\u001b[49m\u001b[43m)\u001b[49m\u001b[38;5;241;43m.\u001b[39;49m\u001b[43mrun_cell_magic\u001b[49m\u001b[43m(\u001b[49m\u001b[38;5;124;43m'\u001b[39;49m\u001b[38;5;124;43mbash\u001b[39;49m\u001b[38;5;124;43m'\u001b[39;49m\u001b[43m,\u001b[49m\u001b[43m \u001b[49m\u001b[38;5;124;43m'\u001b[39;49m\u001b[38;5;124;43m'\u001b[39;49m\u001b[43m,\u001b[49m\u001b[43m \u001b[49m\u001b[38;5;124;43m'\u001b[39;49m\u001b[38;5;124;43mdiff vis/forward_asl.png vis/reverse_asl.png\u001b[39;49m\u001b[38;5;130;43;01m\\n\u001b[39;49;00m\u001b[38;5;124;43m'\u001b[39;49m\u001b[43m)\u001b[49m\n",
      "File \u001b[0;32m~/anaconda3/envs/py310/lib/python3.10/site-packages/IPython/core/interactiveshell.py:2541\u001b[0m, in \u001b[0;36mInteractiveShell.run_cell_magic\u001b[0;34m(self, magic_name, line, cell)\u001b[0m\n\u001b[1;32m   2539\u001b[0m \u001b[38;5;28;01mwith\u001b[39;00m \u001b[38;5;28mself\u001b[39m\u001b[38;5;241m.\u001b[39mbuiltin_trap:\n\u001b[1;32m   2540\u001b[0m     args \u001b[38;5;241m=\u001b[39m (magic_arg_s, cell)\n\u001b[0;32m-> 2541\u001b[0m     result \u001b[38;5;241m=\u001b[39m \u001b[43mfn\u001b[49m\u001b[43m(\u001b[49m\u001b[38;5;241;43m*\u001b[39;49m\u001b[43margs\u001b[49m\u001b[43m,\u001b[49m\u001b[43m \u001b[49m\u001b[38;5;241;43m*\u001b[39;49m\u001b[38;5;241;43m*\u001b[39;49m\u001b[43mkwargs\u001b[49m\u001b[43m)\u001b[49m\n\u001b[1;32m   2543\u001b[0m \u001b[38;5;66;03m# The code below prevents the output from being displayed\u001b[39;00m\n\u001b[1;32m   2544\u001b[0m \u001b[38;5;66;03m# when using magics with decorator @output_can_be_silenced\u001b[39;00m\n\u001b[1;32m   2545\u001b[0m \u001b[38;5;66;03m# when the last Python token in the expression is a ';'.\u001b[39;00m\n\u001b[1;32m   2546\u001b[0m \u001b[38;5;28;01mif\u001b[39;00m \u001b[38;5;28mgetattr\u001b[39m(fn, magic\u001b[38;5;241m.\u001b[39mMAGIC_OUTPUT_CAN_BE_SILENCED, \u001b[38;5;28;01mFalse\u001b[39;00m):\n",
      "File \u001b[0;32m~/anaconda3/envs/py310/lib/python3.10/site-packages/IPython/core/magics/script.py:155\u001b[0m, in \u001b[0;36mScriptMagics._make_script_magic.<locals>.named_script_magic\u001b[0;34m(line, cell)\u001b[0m\n\u001b[1;32m    153\u001b[0m \u001b[38;5;28;01melse\u001b[39;00m:\n\u001b[1;32m    154\u001b[0m     line \u001b[38;5;241m=\u001b[39m script\n\u001b[0;32m--> 155\u001b[0m \u001b[38;5;28;01mreturn\u001b[39;00m \u001b[38;5;28;43mself\u001b[39;49m\u001b[38;5;241;43m.\u001b[39;49m\u001b[43mshebang\u001b[49m\u001b[43m(\u001b[49m\u001b[43mline\u001b[49m\u001b[43m,\u001b[49m\u001b[43m \u001b[49m\u001b[43mcell\u001b[49m\u001b[43m)\u001b[49m\n",
      "File \u001b[0;32m~/anaconda3/envs/py310/lib/python3.10/site-packages/IPython/core/magics/script.py:315\u001b[0m, in \u001b[0;36mScriptMagics.shebang\u001b[0;34m(self, line, cell)\u001b[0m\n\u001b[1;32m    310\u001b[0m \u001b[38;5;28;01mif\u001b[39;00m args\u001b[38;5;241m.\u001b[39mraise_error \u001b[38;5;129;01mand\u001b[39;00m p\u001b[38;5;241m.\u001b[39mreturncode \u001b[38;5;241m!=\u001b[39m \u001b[38;5;241m0\u001b[39m:\n\u001b[1;32m    311\u001b[0m     \u001b[38;5;66;03m# If we get here and p.returncode is still None, we must have\u001b[39;00m\n\u001b[1;32m    312\u001b[0m     \u001b[38;5;66;03m# killed it but not yet seen its return code. We don't wait for it,\u001b[39;00m\n\u001b[1;32m    313\u001b[0m     \u001b[38;5;66;03m# in case it's stuck in uninterruptible sleep. -9 = SIGKILL\u001b[39;00m\n\u001b[1;32m    314\u001b[0m     rc \u001b[38;5;241m=\u001b[39m p\u001b[38;5;241m.\u001b[39mreturncode \u001b[38;5;129;01mor\u001b[39;00m \u001b[38;5;241m-\u001b[39m\u001b[38;5;241m9\u001b[39m\n\u001b[0;32m--> 315\u001b[0m     \u001b[38;5;28;01mraise\u001b[39;00m CalledProcessError(rc, cell)\n",
      "\u001b[0;31mCalledProcessError\u001b[0m: Command 'b'diff vis/forward_asl.png vis/reverse_asl.png\\n'' returned non-zero exit status 1."
     ]
    }
   ],
   "source": [
    "%%bash\n",
    "diff vis/forward_asl.png vis/reverse_asl.png"
   ]
  },
  {
   "cell_type": "code",
   "execution_count": null,
   "metadata": {},
   "outputs": [],
   "source": []
  }
 ],
 "metadata": {
  "kernelspec": {
   "display_name": "py310",
   "language": "python",
   "name": "python3"
  },
  "language_info": {
   "codemirror_mode": {
    "name": "ipython",
    "version": 3
   },
   "file_extension": ".py",
   "mimetype": "text/x-python",
   "name": "python",
   "nbconvert_exporter": "python",
   "pygments_lexer": "ipython3",
   "version": "3.10.14"
  }
 },
 "nbformat": 4,
 "nbformat_minor": 2
}
