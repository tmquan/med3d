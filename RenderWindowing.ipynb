{
 "cells": [
  {
   "cell_type": "code",
   "execution_count": 1,
   "metadata": {},
   "outputs": [],
   "source": [
    "import cv2\n",
    "import torch\n",
    "import torchvision\n",
    "from tqdm import tqdm\n",
    "import numpy as np\n",
    "import matplotlib.pyplot as plt\n",
    "from IPython.display import Image\n",
    "from monai.transforms import (\n",
    "    apply_transform,\n",
    "    Randomizable,\n",
    "    Compose,\n",
    "    OneOf,\n",
    "    EnsureChannelFirstDict,\n",
    "    LoadImageDict,\n",
    "    SpacingDict,\n",
    "    OrientationDict,\n",
    "    DivisiblePadDict,\n",
    "    CropForegroundDict,\n",
    "    ResizeDict,\n",
    "    RandZoomDict,\n",
    "    ZoomDict,\n",
    "    RandRotateDict,\n",
    "    HistogramNormalizeDict,\n",
    "    ScaleIntensityDict,\n",
    "    ScaleIntensityRangeDict,\n",
    "    ToTensorDict,\n",
    "    Transform\n",
    ")"
   ]
  },
  {
   "cell_type": "code",
   "execution_count": 2,
   "metadata": {},
   "outputs": [
    {
     "name": "stdout",
     "output_type": "stream",
     "text": [
      "402\n",
      "['/home/quantm/data/ChestXRLungSegmentation/NSCLC/processed/train/images/LUNG1-001_0000.nii.gz']\n"
     ]
    }
   ],
   "source": [
    "import os\n",
    "import glob\n",
    "from tqdm.auto import tqdm\n",
    "\n",
    "def glob_files(folders: str = None, extension: str = \"*.nii.gz\"):\n",
    "    assert folders is not None\n",
    "    paths = [\n",
    "        glob.glob(os.path.join(folder, extension), recursive=True)\n",
    "        for folder in folders\n",
    "    ]\n",
    "    files = sorted([item for sublist in paths for item in sublist])\n",
    "    print(len(files))\n",
    "    print(files[:1])\n",
    "    return files\n",
    "\n",
    "ct_folders = [\n",
    "    \"/home/quantm/data/ChestXRLungSegmentation/NSCLC/processed/train/images\",\n",
    "]\n",
    "ct_images = glob_files(\n",
    "    ct_folders, \n",
    "    extension=\"*.nii.gz\"\n",
    ")"
   ]
  },
  {
   "cell_type": "code",
   "execution_count": 3,
   "metadata": {},
   "outputs": [],
   "source": [
    "from pytorch3d.renderer.cameras import (\n",
    "    FoVPerspectiveCameras,\n",
    "    FoVOrthographicCameras,\n",
    "    look_at_view_transform,\n",
    ")\n",
    "\n",
    "def make_cameras_dea(\n",
    "    dist: torch.Tensor,\n",
    "    elev: torch.Tensor,\n",
    "    azim: torch.Tensor,\n",
    "    fov: int = 40,\n",
    "    znear: int = 4.0,\n",
    "    zfar: int = 8.0,\n",
    "    is_orthogonal: bool = False,\n",
    "):\n",
    "    assert dist.device == elev.device == azim.device\n",
    "    _device = dist.device\n",
    "    R, T = look_at_view_transform(dist=dist, elev=elev * 90, azim=azim * 180)\n",
    "    if is_orthogonal:\n",
    "        return FoVOrthographicCameras(R=R, T=T, znear=znear, zfar=zfar).to(_device)\n",
    "    return FoVPerspectiveCameras(R=R, T=T, fov=fov, znear=znear, zfar=zfar).to(_device)\n"
   ]
  },
  {
   "cell_type": "code",
   "execution_count": 4,
   "metadata": {},
   "outputs": [],
   "source": [
    "# Define the transformation pipeline for \"image2d\"\n",
    "val_transforms = Compose(\n",
    "    [\n",
    "        LoadImageDict(keys=[\"image3d\"]),\n",
    "        EnsureChannelFirstDict(keys=[\"image3d\"],),\n",
    "        SpacingDict(\n",
    "            keys=[\"image3d\"],\n",
    "            pixdim=(1.0, 1.0, 1.0),\n",
    "            mode=[\"bilinear\"],\n",
    "            align_corners=True,\n",
    "        ),\n",
    "        OrientationDict(keys=(\"image3d\"), axcodes=\"ASL\"),\n",
    "        ScaleIntensityRangeDict(\n",
    "            keys=[\"image3d\"],\n",
    "            clip=True,\n",
    "            a_min=-1024,\n",
    "            a_max=+3071,\n",
    "            b_min=0.0,\n",
    "            b_max=1.0,\n",
    "        ),\n",
    "        # ScaleIntensityRangeDict(\n",
    "        #     keys=[\"image3d\"],\n",
    "        #     clip=True,\n",
    "        #     a_min=-1024,\n",
    "        #     a_max=+3071,\n",
    "        #     b_min=-1024,\n",
    "        #     b_max=+3071,\n",
    "        # ),\n",
    "        # CropForegroundDict(\n",
    "        #     keys=[\"image3d\"],\n",
    "        #     source_key=\"image3d\",\n",
    "        #     select_fn=(lambda x: x > 0),\n",
    "        #     margin=0,\n",
    "        # ),\n",
    "        # ZoomDict(keys=[\"image3d\"], zoom=0.95, padding_mode=\"constant\", mode=[\"area\"]),\n",
    "        ResizeDict(\n",
    "            keys=[\"image3d\"],\n",
    "            spatial_size=256,\n",
    "            size_mode=\"longest\",\n",
    "            mode=[\"trilinear\"],\n",
    "            align_corners=True,\n",
    "        ),\n",
    "        DivisiblePadDict(\n",
    "            keys=[\"image3d\"],\n",
    "            k=256,\n",
    "            mode=\"constant\",\n",
    "            constant_values=0,\n",
    "        ),\n",
    "        ToTensorDict(keys=[\"image3d\"],),\n",
    "    ]\n",
    ")\n",
    "\n",
    "def rescaled(x, val=64, eps=1e-8):\n",
    "    return (x + eps) / (val + eps)\n",
    "\n",
    "def minimized(x, eps=1e-8):\n",
    "    return (x + eps) / (x.max() + eps)\n",
    "\n",
    "def normalized(x, eps=1e-8):\n",
    "    return (x - x.min() + eps) / (x.max() - x.min() + eps)\n",
    "\n",
    "def standardized(x, eps=1e-8):\n",
    "    return (x - x.mean()) / (x.std() + eps)  # 1e-6 to avoid zero division\n",
    "\n",
    "def transform_hu_to_density(\n",
    "        volume, \n",
    "        bone_attenuation_multiplier=2, \n",
    "        # v_min=-800, \n",
    "        # v_max=+350, \n",
    "        v_min=-256, \n",
    "        v_max=+1024\n",
    "    ):\n",
    "    # volume can be loaded as int16, need to convert to float32 to use float bone_attenuation_multiplier\n",
    "    volume = volume.to(torch.float32)\n",
    "    air = torch.where(volume <= v_min)\n",
    "    soft_tissue = torch.where((v_min < volume) & (volume <= v_max))\n",
    "    bone = torch.where(v_max < volume)\n",
    "\n",
    "    density = torch.empty_like(volume)\n",
    "    density[air] = volume[soft_tissue].min()\n",
    "    density[soft_tissue] = volume[soft_tissue]\n",
    "    density[bone] = volume[bone] * bone_attenuation_multiplier\n",
    "    density = normalized(density)\n",
    "    return density"
   ]
  },
  {
   "cell_type": "code",
   "execution_count": 5,
   "metadata": {},
   "outputs": [],
   "source": [
    "# Run forward pass\n",
    "device = torch.device('cuda:0')\n",
    "B = 1\n",
    "\n",
    "fov=12.0\n",
    "znear=7\n",
    "zfar=9\n",
    "\n",
    "i = 22"
   ]
  },
  {
   "cell_type": "code",
   "execution_count": 6,
   "metadata": {},
   "outputs": [],
   "source": [
    "dist_hidden = 8 * torch.ones(B, device=device)\n",
    "elev_hidden = torch.zeros(B, device=device)\n",
    "azim_hidden = torch.zeros(B, device=device)\n",
    "view_hidden = make_cameras_dea(\n",
    "    dist_hidden, \n",
    "    elev_hidden, \n",
    "    azim_hidden, \n",
    "    fov=fov, \n",
    "    znear=znear, \n",
    "    zfar=zfar,\n",
    ").to(device)\n",
    "\n",
    "dist_lateral = 8 * torch.ones(B, device=device)\n",
    "elev_lateral = torch.zeros(B, device=device)\n",
    "azim_lateral = torch.ones(B, device=device) * 0.25\n",
    "view_lateral = make_cameras_dea(\n",
    "    dist_lateral, \n",
    "    elev_lateral, \n",
    "    azim_lateral, \n",
    "    fov=fov, \n",
    "    znear=znear, \n",
    "    zfar=zfar,\n",
    ").to(device)"
   ]
  },
  {
   "cell_type": "code",
   "execution_count": 7,
   "metadata": {},
   "outputs": [
    {
     "data": {
      "application/vnd.jupyter.widget-view+json": {
       "model_id": "fd78981fec9e4722bac55d4f2d1f3d3b",
       "version_major": 2,
       "version_minor": 0
      },
      "text/plain": [
       "Outer Loop (v_min):   0%|          | 0/82 [00:00<?, ?it/s]"
      ]
     },
     "metadata": {},
     "output_type": "display_data"
    },
    {
     "data": {
      "application/vnd.jupyter.widget-view+json": {
       "model_id": "664aa69d89ba4488bd12b82b6f52832e",
       "version_major": 2,
       "version_minor": 0
      },
      "text/plain": [
       "Inner Loop (v_max):   0%|          | 0/82 [00:00<?, ?it/s]"
      ]
     },
     "metadata": {},
     "output_type": "display_data"
    },
    {
     "data": {
      "application/vnd.jupyter.widget-view+json": {
       "model_id": "9ed87046e5364e1bb87a903b111d0ab5",
       "version_major": 2,
       "version_minor": 0
      },
      "text/plain": [
       "Inner Loop (v_max):   0%|          | 0/81 [00:00<?, ?it/s]"
      ]
     },
     "metadata": {},
     "output_type": "display_data"
    },
    {
     "data": {
      "application/vnd.jupyter.widget-view+json": {
       "model_id": "13d122edb5b4409681cd287a235b77d2",
       "version_major": 2,
       "version_minor": 0
      },
      "text/plain": [
       "Inner Loop (v_max):   0%|          | 0/80 [00:00<?, ?it/s]"
      ]
     },
     "metadata": {},
     "output_type": "display_data"
    },
    {
     "data": {
      "application/vnd.jupyter.widget-view+json": {
       "model_id": "32477abacde444f199cbac1d64ba6bd9",
       "version_major": 2,
       "version_minor": 0
      },
      "text/plain": [
       "Inner Loop (v_max):   0%|          | 0/79 [00:00<?, ?it/s]"
      ]
     },
     "metadata": {},
     "output_type": "display_data"
    },
    {
     "data": {
      "application/vnd.jupyter.widget-view+json": {
       "model_id": "bb8eb82e91374d87add8c3f4742233f6",
       "version_major": 2,
       "version_minor": 0
      },
      "text/plain": [
       "Inner Loop (v_max):   0%|          | 0/78 [00:00<?, ?it/s]"
      ]
     },
     "metadata": {},
     "output_type": "display_data"
    },
    {
     "data": {
      "application/vnd.jupyter.widget-view+json": {
       "model_id": "5743066a72b841fc982dfbd5d76fca10",
       "version_major": 2,
       "version_minor": 0
      },
      "text/plain": [
       "Inner Loop (v_max):   0%|          | 0/77 [00:00<?, ?it/s]"
      ]
     },
     "metadata": {},
     "output_type": "display_data"
    },
    {
     "data": {
      "application/vnd.jupyter.widget-view+json": {
       "model_id": "e9b5207c7b9d4009bdea9dea573468b8",
       "version_major": 2,
       "version_minor": 0
      },
      "text/plain": [
       "Inner Loop (v_max):   0%|          | 0/76 [00:00<?, ?it/s]"
      ]
     },
     "metadata": {},
     "output_type": "display_data"
    },
    {
     "data": {
      "application/vnd.jupyter.widget-view+json": {
       "model_id": "910540c73b3b4aaead0fdde00b65dc11",
       "version_major": 2,
       "version_minor": 0
      },
      "text/plain": [
       "Inner Loop (v_max):   0%|          | 0/75 [00:00<?, ?it/s]"
      ]
     },
     "metadata": {},
     "output_type": "display_data"
    },
    {
     "data": {
      "application/vnd.jupyter.widget-view+json": {
       "model_id": "3f7a9222da184926b565b6f05737ba3b",
       "version_major": 2,
       "version_minor": 0
      },
      "text/plain": [
       "Inner Loop (v_max):   0%|          | 0/74 [00:00<?, ?it/s]"
      ]
     },
     "metadata": {},
     "output_type": "display_data"
    },
    {
     "data": {
      "application/vnd.jupyter.widget-view+json": {
       "model_id": "47fbfd1909e446e5948891aa90af0542",
       "version_major": 2,
       "version_minor": 0
      },
      "text/plain": [
       "Inner Loop (v_max):   0%|          | 0/73 [00:00<?, ?it/s]"
      ]
     },
     "metadata": {},
     "output_type": "display_data"
    },
    {
     "data": {
      "application/vnd.jupyter.widget-view+json": {
       "model_id": "d7850b6822d340fba9dc494646a17c4b",
       "version_major": 2,
       "version_minor": 0
      },
      "text/plain": [
       "Inner Loop (v_max):   0%|          | 0/72 [00:00<?, ?it/s]"
      ]
     },
     "metadata": {},
     "output_type": "display_data"
    },
    {
     "data": {
      "application/vnd.jupyter.widget-view+json": {
       "model_id": "61645373d2974addbf6a12e7b925dd35",
       "version_major": 2,
       "version_minor": 0
      },
      "text/plain": [
       "Inner Loop (v_max):   0%|          | 0/71 [00:00<?, ?it/s]"
      ]
     },
     "metadata": {},
     "output_type": "display_data"
    },
    {
     "data": {
      "application/vnd.jupyter.widget-view+json": {
       "model_id": "f535bfb89af44c0783cc86ec90109d45",
       "version_major": 2,
       "version_minor": 0
      },
      "text/plain": [
       "Inner Loop (v_max):   0%|          | 0/70 [00:00<?, ?it/s]"
      ]
     },
     "metadata": {},
     "output_type": "display_data"
    },
    {
     "data": {
      "application/vnd.jupyter.widget-view+json": {
       "model_id": "47dfa353630e4604ad347da3a35739c8",
       "version_major": 2,
       "version_minor": 0
      },
      "text/plain": [
       "Inner Loop (v_max):   0%|          | 0/69 [00:00<?, ?it/s]"
      ]
     },
     "metadata": {},
     "output_type": "display_data"
    },
    {
     "data": {
      "application/vnd.jupyter.widget-view+json": {
       "model_id": "48f64409107e418ab7919455c98dfb44",
       "version_major": 2,
       "version_minor": 0
      },
      "text/plain": [
       "Inner Loop (v_max):   0%|          | 0/68 [00:00<?, ?it/s]"
      ]
     },
     "metadata": {},
     "output_type": "display_data"
    },
    {
     "data": {
      "application/vnd.jupyter.widget-view+json": {
       "model_id": "d7b9c1018e6e4f4aaabaa8545fd1dc9a",
       "version_major": 2,
       "version_minor": 0
      },
      "text/plain": [
       "Inner Loop (v_max):   0%|          | 0/67 [00:00<?, ?it/s]"
      ]
     },
     "metadata": {},
     "output_type": "display_data"
    },
    {
     "data": {
      "application/vnd.jupyter.widget-view+json": {
       "model_id": "cc94da244fb446c9b48ed2efbda4d43f",
       "version_major": 2,
       "version_minor": 0
      },
      "text/plain": [
       "Inner Loop (v_max):   0%|          | 0/66 [00:00<?, ?it/s]"
      ]
     },
     "metadata": {},
     "output_type": "display_data"
    },
    {
     "data": {
      "application/vnd.jupyter.widget-view+json": {
       "model_id": "c78b0f98fd40495e9a9d9e3a0df2d663",
       "version_major": 2,
       "version_minor": 0
      },
      "text/plain": [
       "Inner Loop (v_max):   0%|          | 0/65 [00:00<?, ?it/s]"
      ]
     },
     "metadata": {},
     "output_type": "display_data"
    },
    {
     "data": {
      "application/vnd.jupyter.widget-view+json": {
       "model_id": "0682d0d8edca401593fa67a1c78fe814",
       "version_major": 2,
       "version_minor": 0
      },
      "text/plain": [
       "Inner Loop (v_max):   0%|          | 0/64 [00:00<?, ?it/s]"
      ]
     },
     "metadata": {},
     "output_type": "display_data"
    },
    {
     "data": {
      "application/vnd.jupyter.widget-view+json": {
       "model_id": "aaf6940e02ad4d6e89f6f16482c56f5d",
       "version_major": 2,
       "version_minor": 0
      },
      "text/plain": [
       "Inner Loop (v_max):   0%|          | 0/63 [00:00<?, ?it/s]"
      ]
     },
     "metadata": {},
     "output_type": "display_data"
    },
    {
     "data": {
      "application/vnd.jupyter.widget-view+json": {
       "model_id": "55070adf07ed4defa214b5acecb9c86e",
       "version_major": 2,
       "version_minor": 0
      },
      "text/plain": [
       "Inner Loop (v_max):   0%|          | 0/62 [00:00<?, ?it/s]"
      ]
     },
     "metadata": {},
     "output_type": "display_data"
    },
    {
     "data": {
      "application/vnd.jupyter.widget-view+json": {
       "model_id": "6987c696c94a4ec2a29fe69d18062ec8",
       "version_major": 2,
       "version_minor": 0
      },
      "text/plain": [
       "Inner Loop (v_max):   0%|          | 0/61 [00:00<?, ?it/s]"
      ]
     },
     "metadata": {},
     "output_type": "display_data"
    },
    {
     "data": {
      "application/vnd.jupyter.widget-view+json": {
       "model_id": "8cd7db1514d74b9fb52141fa94d83e48",
       "version_major": 2,
       "version_minor": 0
      },
      "text/plain": [
       "Inner Loop (v_max):   0%|          | 0/60 [00:00<?, ?it/s]"
      ]
     },
     "metadata": {},
     "output_type": "display_data"
    },
    {
     "data": {
      "application/vnd.jupyter.widget-view+json": {
       "model_id": "46576903274747a282216b315f813073",
       "version_major": 2,
       "version_minor": 0
      },
      "text/plain": [
       "Inner Loop (v_max):   0%|          | 0/59 [00:00<?, ?it/s]"
      ]
     },
     "metadata": {},
     "output_type": "display_data"
    },
    {
     "data": {
      "application/vnd.jupyter.widget-view+json": {
       "model_id": "5eddb27c0d06481e8a71ff2a599d9af1",
       "version_major": 2,
       "version_minor": 0
      },
      "text/plain": [
       "Inner Loop (v_max):   0%|          | 0/58 [00:00<?, ?it/s]"
      ]
     },
     "metadata": {},
     "output_type": "display_data"
    },
    {
     "data": {
      "application/vnd.jupyter.widget-view+json": {
       "model_id": "496fce53bb9349e59d517e410ad5a32b",
       "version_major": 2,
       "version_minor": 0
      },
      "text/plain": [
       "Inner Loop (v_max):   0%|          | 0/57 [00:00<?, ?it/s]"
      ]
     },
     "metadata": {},
     "output_type": "display_data"
    },
    {
     "data": {
      "application/vnd.jupyter.widget-view+json": {
       "model_id": "9f95b8aa516e469a8282f8c33eff4d39",
       "version_major": 2,
       "version_minor": 0
      },
      "text/plain": [
       "Inner Loop (v_max):   0%|          | 0/56 [00:00<?, ?it/s]"
      ]
     },
     "metadata": {},
     "output_type": "display_data"
    },
    {
     "data": {
      "application/vnd.jupyter.widget-view+json": {
       "model_id": "cc7b3620f2aa4814ab8701c3640f7c26",
       "version_major": 2,
       "version_minor": 0
      },
      "text/plain": [
       "Inner Loop (v_max):   0%|          | 0/55 [00:00<?, ?it/s]"
      ]
     },
     "metadata": {},
     "output_type": "display_data"
    },
    {
     "data": {
      "application/vnd.jupyter.widget-view+json": {
       "model_id": "513fb174a10c41a9b9ab599e3951119b",
       "version_major": 2,
       "version_minor": 0
      },
      "text/plain": [
       "Inner Loop (v_max):   0%|          | 0/54 [00:00<?, ?it/s]"
      ]
     },
     "metadata": {},
     "output_type": "display_data"
    },
    {
     "data": {
      "application/vnd.jupyter.widget-view+json": {
       "model_id": "dbcfbe3736454003b10516584c2e94d2",
       "version_major": 2,
       "version_minor": 0
      },
      "text/plain": [
       "Inner Loop (v_max):   0%|          | 0/53 [00:00<?, ?it/s]"
      ]
     },
     "metadata": {},
     "output_type": "display_data"
    },
    {
     "data": {
      "application/vnd.jupyter.widget-view+json": {
       "model_id": "9d00eba999524400bc1ab80953cafdf7",
       "version_major": 2,
       "version_minor": 0
      },
      "text/plain": [
       "Inner Loop (v_max):   0%|          | 0/52 [00:00<?, ?it/s]"
      ]
     },
     "metadata": {},
     "output_type": "display_data"
    },
    {
     "data": {
      "application/vnd.jupyter.widget-view+json": {
       "model_id": "a4002fa85f484ff3b73e2280eb1ce972",
       "version_major": 2,
       "version_minor": 0
      },
      "text/plain": [
       "Inner Loop (v_max):   0%|          | 0/51 [00:00<?, ?it/s]"
      ]
     },
     "metadata": {},
     "output_type": "display_data"
    },
    {
     "data": {
      "application/vnd.jupyter.widget-view+json": {
       "model_id": "8d93f3ce893b4798902c0bfab9e7bd16",
       "version_major": 2,
       "version_minor": 0
      },
      "text/plain": [
       "Inner Loop (v_max):   0%|          | 0/50 [00:00<?, ?it/s]"
      ]
     },
     "metadata": {},
     "output_type": "display_data"
    },
    {
     "data": {
      "application/vnd.jupyter.widget-view+json": {
       "model_id": "1560643dc0eb463ba7191aede9c9efbf",
       "version_major": 2,
       "version_minor": 0
      },
      "text/plain": [
       "Inner Loop (v_max):   0%|          | 0/49 [00:00<?, ?it/s]"
      ]
     },
     "metadata": {},
     "output_type": "display_data"
    },
    {
     "data": {
      "application/vnd.jupyter.widget-view+json": {
       "model_id": "c2bde4a94c0d4a4a9f85818e522214f5",
       "version_major": 2,
       "version_minor": 0
      },
      "text/plain": [
       "Inner Loop (v_max):   0%|          | 0/48 [00:00<?, ?it/s]"
      ]
     },
     "metadata": {},
     "output_type": "display_data"
    },
    {
     "data": {
      "application/vnd.jupyter.widget-view+json": {
       "model_id": "d66e05d8da1148058ae09c29fadc9746",
       "version_major": 2,
       "version_minor": 0
      },
      "text/plain": [
       "Inner Loop (v_max):   0%|          | 0/47 [00:00<?, ?it/s]"
      ]
     },
     "metadata": {},
     "output_type": "display_data"
    },
    {
     "data": {
      "application/vnd.jupyter.widget-view+json": {
       "model_id": "d957b4e20fde482aa8fd4e2c516a62e7",
       "version_major": 2,
       "version_minor": 0
      },
      "text/plain": [
       "Inner Loop (v_max):   0%|          | 0/46 [00:00<?, ?it/s]"
      ]
     },
     "metadata": {},
     "output_type": "display_data"
    },
    {
     "data": {
      "application/vnd.jupyter.widget-view+json": {
       "model_id": "c6dc00ec45264bcb94666fd3b3ba0c24",
       "version_major": 2,
       "version_minor": 0
      },
      "text/plain": [
       "Inner Loop (v_max):   0%|          | 0/45 [00:00<?, ?it/s]"
      ]
     },
     "metadata": {},
     "output_type": "display_data"
    },
    {
     "data": {
      "application/vnd.jupyter.widget-view+json": {
       "model_id": "f2eb38b2bb1a4eec83edd0106a88de46",
       "version_major": 2,
       "version_minor": 0
      },
      "text/plain": [
       "Inner Loop (v_max):   0%|          | 0/44 [00:00<?, ?it/s]"
      ]
     },
     "metadata": {},
     "output_type": "display_data"
    },
    {
     "data": {
      "application/vnd.jupyter.widget-view+json": {
       "model_id": "71e9206119994953a6b12d1b1120f668",
       "version_major": 2,
       "version_minor": 0
      },
      "text/plain": [
       "Inner Loop (v_max):   0%|          | 0/43 [00:00<?, ?it/s]"
      ]
     },
     "metadata": {},
     "output_type": "display_data"
    },
    {
     "data": {
      "application/vnd.jupyter.widget-view+json": {
       "model_id": "bce0c349b690451a80406623010788d0",
       "version_major": 2,
       "version_minor": 0
      },
      "text/plain": [
       "Inner Loop (v_max):   0%|          | 0/42 [00:00<?, ?it/s]"
      ]
     },
     "metadata": {},
     "output_type": "display_data"
    },
    {
     "data": {
      "application/vnd.jupyter.widget-view+json": {
       "model_id": "d5a686ee1b0a4649afddf738807e7fb7",
       "version_major": 2,
       "version_minor": 0
      },
      "text/plain": [
       "Inner Loop (v_max):   0%|          | 0/41 [00:00<?, ?it/s]"
      ]
     },
     "metadata": {},
     "output_type": "display_data"
    },
    {
     "data": {
      "application/vnd.jupyter.widget-view+json": {
       "model_id": "61cba09b9bd74f9a95326e0a21ecce7c",
       "version_major": 2,
       "version_minor": 0
      },
      "text/plain": [
       "Inner Loop (v_max):   0%|          | 0/40 [00:00<?, ?it/s]"
      ]
     },
     "metadata": {},
     "output_type": "display_data"
    },
    {
     "data": {
      "application/vnd.jupyter.widget-view+json": {
       "model_id": "455e16678a934dcd831edfe734c6651b",
       "version_major": 2,
       "version_minor": 0
      },
      "text/plain": [
       "Inner Loop (v_max):   0%|          | 0/39 [00:00<?, ?it/s]"
      ]
     },
     "metadata": {},
     "output_type": "display_data"
    },
    {
     "data": {
      "application/vnd.jupyter.widget-view+json": {
       "model_id": "ba871e20550346e39147a4ee18144307",
       "version_major": 2,
       "version_minor": 0
      },
      "text/plain": [
       "Inner Loop (v_max):   0%|          | 0/38 [00:00<?, ?it/s]"
      ]
     },
     "metadata": {},
     "output_type": "display_data"
    },
    {
     "data": {
      "application/vnd.jupyter.widget-view+json": {
       "model_id": "8f2354ea50464680b1ff7ebe79b388bd",
       "version_major": 2,
       "version_minor": 0
      },
      "text/plain": [
       "Inner Loop (v_max):   0%|          | 0/37 [00:00<?, ?it/s]"
      ]
     },
     "metadata": {},
     "output_type": "display_data"
    },
    {
     "data": {
      "application/vnd.jupyter.widget-view+json": {
       "model_id": "db346d565c6346648324b2bb81d16bb9",
       "version_major": 2,
       "version_minor": 0
      },
      "text/plain": [
       "Inner Loop (v_max):   0%|          | 0/36 [00:00<?, ?it/s]"
      ]
     },
     "metadata": {},
     "output_type": "display_data"
    },
    {
     "name": "stdout",
     "output_type": "stream",
     "text": [
      "Skipping due to RuntimeError: min(): Expected reduction dim to be specified for input.numel() == 0. Specify the reduction dim with the 'dim' argument.\n"
     ]
    },
    {
     "data": {
      "application/vnd.jupyter.widget-view+json": {
       "model_id": "5529bb1a95544431bd4b6c4394e4cb25",
       "version_major": 2,
       "version_minor": 0
      },
      "text/plain": [
       "Inner Loop (v_max):   0%|          | 0/35 [00:00<?, ?it/s]"
      ]
     },
     "metadata": {},
     "output_type": "display_data"
    },
    {
     "data": {
      "application/vnd.jupyter.widget-view+json": {
       "model_id": "9145988095fc4da1b60f965dfe302ac5",
       "version_major": 2,
       "version_minor": 0
      },
      "text/plain": [
       "Inner Loop (v_max):   0%|          | 0/34 [00:00<?, ?it/s]"
      ]
     },
     "metadata": {},
     "output_type": "display_data"
    },
    {
     "data": {
      "application/vnd.jupyter.widget-view+json": {
       "model_id": "b8356594518549b29821f259d0f2c92a",
       "version_major": 2,
       "version_minor": 0
      },
      "text/plain": [
       "Inner Loop (v_max):   0%|          | 0/33 [00:00<?, ?it/s]"
      ]
     },
     "metadata": {},
     "output_type": "display_data"
    },
    {
     "data": {
      "application/vnd.jupyter.widget-view+json": {
       "model_id": "542d6d5326604dd796fede1a133ce79f",
       "version_major": 2,
       "version_minor": 0
      },
      "text/plain": [
       "Inner Loop (v_max):   0%|          | 0/32 [00:00<?, ?it/s]"
      ]
     },
     "metadata": {},
     "output_type": "display_data"
    },
    {
     "data": {
      "application/vnd.jupyter.widget-view+json": {
       "model_id": "15aa36a0cde84abaa5bb2f18636f2de4",
       "version_major": 2,
       "version_minor": 0
      },
      "text/plain": [
       "Inner Loop (v_max):   0%|          | 0/31 [00:00<?, ?it/s]"
      ]
     },
     "metadata": {},
     "output_type": "display_data"
    },
    {
     "data": {
      "application/vnd.jupyter.widget-view+json": {
       "model_id": "4e92cc36ac4e42fe971206bedfee4ad8",
       "version_major": 2,
       "version_minor": 0
      },
      "text/plain": [
       "Inner Loop (v_max):   0%|          | 0/30 [00:00<?, ?it/s]"
      ]
     },
     "metadata": {},
     "output_type": "display_data"
    },
    {
     "name": "stdout",
     "output_type": "stream",
     "text": [
      "Skipping due to RuntimeError: min(): Expected reduction dim to be specified for input.numel() == 0. Specify the reduction dim with the 'dim' argument.\n"
     ]
    },
    {
     "data": {
      "application/vnd.jupyter.widget-view+json": {
       "model_id": "b5106e3d43dc447aaf805a50a40eed9d",
       "version_major": 2,
       "version_minor": 0
      },
      "text/plain": [
       "Inner Loop (v_max):   0%|          | 0/29 [00:00<?, ?it/s]"
      ]
     },
     "metadata": {},
     "output_type": "display_data"
    },
    {
     "data": {
      "application/vnd.jupyter.widget-view+json": {
       "model_id": "e3c660cf208f4e11a73e27c7072e0ec5",
       "version_major": 2,
       "version_minor": 0
      },
      "text/plain": [
       "Inner Loop (v_max):   0%|          | 0/28 [00:00<?, ?it/s]"
      ]
     },
     "metadata": {},
     "output_type": "display_data"
    },
    {
     "data": {
      "application/vnd.jupyter.widget-view+json": {
       "model_id": "0e33f52bb575462d94d45f7852a10ccd",
       "version_major": 2,
       "version_minor": 0
      },
      "text/plain": [
       "Inner Loop (v_max):   0%|          | 0/27 [00:00<?, ?it/s]"
      ]
     },
     "metadata": {},
     "output_type": "display_data"
    },
    {
     "name": "stdout",
     "output_type": "stream",
     "text": [
      "Skipping due to RuntimeError: min(): Expected reduction dim to be specified for input.numel() == 0. Specify the reduction dim with the 'dim' argument.\n"
     ]
    },
    {
     "data": {
      "application/vnd.jupyter.widget-view+json": {
       "model_id": "9e73895d99684ef1bb1309dd3c8b9341",
       "version_major": 2,
       "version_minor": 0
      },
      "text/plain": [
       "Inner Loop (v_max):   0%|          | 0/26 [00:00<?, ?it/s]"
      ]
     },
     "metadata": {},
     "output_type": "display_data"
    },
    {
     "data": {
      "application/vnd.jupyter.widget-view+json": {
       "model_id": "08eb0fadabb545bfa251e75d8be1db54",
       "version_major": 2,
       "version_minor": 0
      },
      "text/plain": [
       "Inner Loop (v_max):   0%|          | 0/25 [00:00<?, ?it/s]"
      ]
     },
     "metadata": {},
     "output_type": "display_data"
    },
    {
     "name": "stdout",
     "output_type": "stream",
     "text": [
      "Skipping due to RuntimeError: min(): Expected reduction dim to be specified for input.numel() == 0. Specify the reduction dim with the 'dim' argument.\n"
     ]
    },
    {
     "data": {
      "application/vnd.jupyter.widget-view+json": {
       "model_id": "679a8f8ffa2e46c7ba420b9fb0e9d2b3",
       "version_major": 2,
       "version_minor": 0
      },
      "text/plain": [
       "Inner Loop (v_max):   0%|          | 0/24 [00:00<?, ?it/s]"
      ]
     },
     "metadata": {},
     "output_type": "display_data"
    },
    {
     "name": "stdout",
     "output_type": "stream",
     "text": [
      "Skipping due to RuntimeError: min(): Expected reduction dim to be specified for input.numel() == 0. Specify the reduction dim with the 'dim' argument.\n"
     ]
    },
    {
     "data": {
      "application/vnd.jupyter.widget-view+json": {
       "model_id": "06c128cd50444024b165a23ec64eaa84",
       "version_major": 2,
       "version_minor": 0
      },
      "text/plain": [
       "Inner Loop (v_max):   0%|          | 0/23 [00:00<?, ?it/s]"
      ]
     },
     "metadata": {},
     "output_type": "display_data"
    },
    {
     "name": "stdout",
     "output_type": "stream",
     "text": [
      "Skipping due to RuntimeError: min(): Expected reduction dim to be specified for input.numel() == 0. Specify the reduction dim with the 'dim' argument.\n"
     ]
    },
    {
     "data": {
      "application/vnd.jupyter.widget-view+json": {
       "model_id": "e0db7f381b254ce2b6c84a3abd8afe6c",
       "version_major": 2,
       "version_minor": 0
      },
      "text/plain": [
       "Inner Loop (v_max):   0%|          | 0/22 [00:00<?, ?it/s]"
      ]
     },
     "metadata": {},
     "output_type": "display_data"
    },
    {
     "data": {
      "application/vnd.jupyter.widget-view+json": {
       "model_id": "acce289fe1c44a0a90a75ffa2d8c7248",
       "version_major": 2,
       "version_minor": 0
      },
      "text/plain": [
       "Inner Loop (v_max):   0%|          | 0/21 [00:00<?, ?it/s]"
      ]
     },
     "metadata": {},
     "output_type": "display_data"
    },
    {
     "data": {
      "application/vnd.jupyter.widget-view+json": {
       "model_id": "5bfb54a03f544d77b2de082b1e605a85",
       "version_major": 2,
       "version_minor": 0
      },
      "text/plain": [
       "Inner Loop (v_max):   0%|          | 0/20 [00:00<?, ?it/s]"
      ]
     },
     "metadata": {},
     "output_type": "display_data"
    },
    {
     "name": "stdout",
     "output_type": "stream",
     "text": [
      "Skipping due to RuntimeError: min(): Expected reduction dim to be specified for input.numel() == 0. Specify the reduction dim with the 'dim' argument.\n"
     ]
    },
    {
     "data": {
      "application/vnd.jupyter.widget-view+json": {
       "model_id": "fd89424641964af99edec643b3e554aa",
       "version_major": 2,
       "version_minor": 0
      },
      "text/plain": [
       "Inner Loop (v_max):   0%|          | 0/19 [00:00<?, ?it/s]"
      ]
     },
     "metadata": {},
     "output_type": "display_data"
    },
    {
     "data": {
      "application/vnd.jupyter.widget-view+json": {
       "model_id": "9ee77442bc8a418a994eb0cfe2655808",
       "version_major": 2,
       "version_minor": 0
      },
      "text/plain": [
       "Inner Loop (v_max):   0%|          | 0/18 [00:00<?, ?it/s]"
      ]
     },
     "metadata": {},
     "output_type": "display_data"
    },
    {
     "data": {
      "application/vnd.jupyter.widget-view+json": {
       "model_id": "f7a4cd5cb44c4d9f8a4856bc6f7ec38d",
       "version_major": 2,
       "version_minor": 0
      },
      "text/plain": [
       "Inner Loop (v_max):   0%|          | 0/17 [00:00<?, ?it/s]"
      ]
     },
     "metadata": {},
     "output_type": "display_data"
    },
    {
     "data": {
      "application/vnd.jupyter.widget-view+json": {
       "model_id": "5a8b87802b824024beaa5b4ca5caf396",
       "version_major": 2,
       "version_minor": 0
      },
      "text/plain": [
       "Inner Loop (v_max):   0%|          | 0/16 [00:00<?, ?it/s]"
      ]
     },
     "metadata": {},
     "output_type": "display_data"
    },
    {
     "data": {
      "application/vnd.jupyter.widget-view+json": {
       "model_id": "c2179c696b3641c59b930f7cf83887cd",
       "version_major": 2,
       "version_minor": 0
      },
      "text/plain": [
       "Inner Loop (v_max):   0%|          | 0/15 [00:00<?, ?it/s]"
      ]
     },
     "metadata": {},
     "output_type": "display_data"
    },
    {
     "name": "stdout",
     "output_type": "stream",
     "text": [
      "Skipping due to RuntimeError: min(): Expected reduction dim to be specified for input.numel() == 0. Specify the reduction dim with the 'dim' argument.\n"
     ]
    },
    {
     "data": {
      "application/vnd.jupyter.widget-view+json": {
       "model_id": "2d8ff457373149f28022f9eba846bcd3",
       "version_major": 2,
       "version_minor": 0
      },
      "text/plain": [
       "Inner Loop (v_max):   0%|          | 0/14 [00:00<?, ?it/s]"
      ]
     },
     "metadata": {},
     "output_type": "display_data"
    },
    {
     "data": {
      "application/vnd.jupyter.widget-view+json": {
       "model_id": "c592cca4d3c447a190978e699566eee0",
       "version_major": 2,
       "version_minor": 0
      },
      "text/plain": [
       "Inner Loop (v_max):   0%|          | 0/13 [00:00<?, ?it/s]"
      ]
     },
     "metadata": {},
     "output_type": "display_data"
    },
    {
     "data": {
      "application/vnd.jupyter.widget-view+json": {
       "model_id": "4353c33cbf354d43ba9530f134664a7d",
       "version_major": 2,
       "version_minor": 0
      },
      "text/plain": [
       "Inner Loop (v_max):   0%|          | 0/12 [00:00<?, ?it/s]"
      ]
     },
     "metadata": {},
     "output_type": "display_data"
    },
    {
     "name": "stdout",
     "output_type": "stream",
     "text": [
      "Skipping due to RuntimeError: min(): Expected reduction dim to be specified for input.numel() == 0. Specify the reduction dim with the 'dim' argument.\n"
     ]
    },
    {
     "data": {
      "application/vnd.jupyter.widget-view+json": {
       "model_id": "d3cf098f20f54cfea77ff222e6c3dd41",
       "version_major": 2,
       "version_minor": 0
      },
      "text/plain": [
       "Inner Loop (v_max):   0%|          | 0/11 [00:00<?, ?it/s]"
      ]
     },
     "metadata": {},
     "output_type": "display_data"
    },
    {
     "name": "stdout",
     "output_type": "stream",
     "text": [
      "Skipping due to RuntimeError: min(): Expected reduction dim to be specified for input.numel() == 0. Specify the reduction dim with the 'dim' argument.\n"
     ]
    },
    {
     "data": {
      "application/vnd.jupyter.widget-view+json": {
       "model_id": "261ad68ee1844bfaac786604cf6572eb",
       "version_major": 2,
       "version_minor": 0
      },
      "text/plain": [
       "Inner Loop (v_max):   0%|          | 0/10 [00:00<?, ?it/s]"
      ]
     },
     "metadata": {},
     "output_type": "display_data"
    },
    {
     "data": {
      "application/vnd.jupyter.widget-view+json": {
       "model_id": "2220abd321214199b018735f949b366f",
       "version_major": 2,
       "version_minor": 0
      },
      "text/plain": [
       "Inner Loop (v_max):   0%|          | 0/9 [00:00<?, ?it/s]"
      ]
     },
     "metadata": {},
     "output_type": "display_data"
    },
    {
     "name": "stdout",
     "output_type": "stream",
     "text": [
      "Skipping due to RuntimeError: min(): Expected reduction dim to be specified for input.numel() == 0. Specify the reduction dim with the 'dim' argument.\n"
     ]
    },
    {
     "data": {
      "application/vnd.jupyter.widget-view+json": {
       "model_id": "660ecd003a534e6fbdf7191bd898ab4b",
       "version_major": 2,
       "version_minor": 0
      },
      "text/plain": [
       "Inner Loop (v_max):   0%|          | 0/8 [00:00<?, ?it/s]"
      ]
     },
     "metadata": {},
     "output_type": "display_data"
    },
    {
     "data": {
      "application/vnd.jupyter.widget-view+json": {
       "model_id": "749ce826def743e0b1caab345ab46f7e",
       "version_major": 2,
       "version_minor": 0
      },
      "text/plain": [
       "Inner Loop (v_max):   0%|          | 0/7 [00:00<?, ?it/s]"
      ]
     },
     "metadata": {},
     "output_type": "display_data"
    },
    {
     "name": "stdout",
     "output_type": "stream",
     "text": [
      "Skipping due to RuntimeError: min(): Expected reduction dim to be specified for input.numel() == 0. Specify the reduction dim with the 'dim' argument.\n"
     ]
    },
    {
     "data": {
      "application/vnd.jupyter.widget-view+json": {
       "model_id": "7c1cf25b0c6944ecb9133c9e8af4199b",
       "version_major": 2,
       "version_minor": 0
      },
      "text/plain": [
       "Inner Loop (v_max):   0%|          | 0/6 [00:00<?, ?it/s]"
      ]
     },
     "metadata": {},
     "output_type": "display_data"
    },
    {
     "name": "stdout",
     "output_type": "stream",
     "text": [
      "Skipping due to RuntimeError: min(): Expected reduction dim to be specified for input.numel() == 0. Specify the reduction dim with the 'dim' argument.\n"
     ]
    },
    {
     "data": {
      "application/vnd.jupyter.widget-view+json": {
       "model_id": "fdf5c2542ca14127b2aa05b39437890c",
       "version_major": 2,
       "version_minor": 0
      },
      "text/plain": [
       "Inner Loop (v_max):   0%|          | 0/5 [00:00<?, ?it/s]"
      ]
     },
     "metadata": {},
     "output_type": "display_data"
    },
    {
     "data": {
      "application/vnd.jupyter.widget-view+json": {
       "model_id": "63a7f2c1404e460c916c210856429e4f",
       "version_major": 2,
       "version_minor": 0
      },
      "text/plain": [
       "Inner Loop (v_max):   0%|          | 0/4 [00:00<?, ?it/s]"
      ]
     },
     "metadata": {},
     "output_type": "display_data"
    },
    {
     "name": "stdout",
     "output_type": "stream",
     "text": [
      "Skipping due to RuntimeError: min(): Expected reduction dim to be specified for input.numel() == 0. Specify the reduction dim with the 'dim' argument.\n"
     ]
    },
    {
     "data": {
      "application/vnd.jupyter.widget-view+json": {
       "model_id": "ee9f8a2366924c719981b987794dbf97",
       "version_major": 2,
       "version_minor": 0
      },
      "text/plain": [
       "Inner Loop (v_max):   0%|          | 0/3 [00:00<?, ?it/s]"
      ]
     },
     "metadata": {},
     "output_type": "display_data"
    },
    {
     "data": {
      "application/vnd.jupyter.widget-view+json": {
       "model_id": "c2f9094dea1441ceb1ff804a792e9be9",
       "version_major": 2,
       "version_minor": 0
      },
      "text/plain": [
       "Inner Loop (v_max):   0%|          | 0/2 [00:00<?, ?it/s]"
      ]
     },
     "metadata": {},
     "output_type": "display_data"
    },
    {
     "name": "stdout",
     "output_type": "stream",
     "text": [
      "Skipping due to RuntimeError: min(): Expected reduction dim to be specified for input.numel() == 0. Specify the reduction dim with the 'dim' argument.\n"
     ]
    },
    {
     "data": {
      "application/vnd.jupyter.widget-view+json": {
       "model_id": "a2c03fe6e474408f843a6b7fd4596606",
       "version_major": 2,
       "version_minor": 0
      },
      "text/plain": [
       "Inner Loop (v_max):   0%|          | 0/1 [00:00<?, ?it/s]"
      ]
     },
     "metadata": {},
     "output_type": "display_data"
    },
    {
     "name": "stdout",
     "output_type": "stream",
     "text": [
      "Rendering complete for all specified v_min and v_max values.\n"
     ]
    }
   ],
   "source": [
    "from dvr.renderer import ObjectCentricXRayVolumeRenderer\n",
    "\n",
    "\n",
    "# Initialize the renderer outside the loop to avoid reinitialization\n",
    "fwd_renderer = ObjectCentricXRayVolumeRenderer(\n",
    "    image_width=256,\n",
    "    image_height=256,\n",
    "    n_pts_per_ray=800,\n",
    "    min_depth=znear,\n",
    "    max_depth=zfar,\n",
    "    ndc_extent=1.0,\n",
    ")\n",
    "\n",
    "# Loop through v_min values with tqdm\n",
    "for v_min in tqdm(range(-1024, 3071, 50), desc=\"Outer Loop (v_min)\"): \n",
    "    # Loop through v_max values from v_min + 1 to 3071 with tqdm\n",
    "    for v_max in tqdm(range(v_min + 1, 3072, 50), desc=\"Inner Loop (v_max)\", leave=False):\n",
    "        try:\n",
    "            # Prepare data for rendering\n",
    "            data = {}\n",
    "            data[\"image3d\"] = ct_images[i]\n",
    "            image3d = val_transforms(data)\n",
    "\n",
    "            image3d = image3d[\"image3d\"].to(device)\n",
    "            image3d = image3d.unsqueeze(0)\n",
    "\n",
    "            # Scale from 0 1 to -1024 4095\n",
    "            image3d *= 4095\n",
    "            image3d -= 1024  \n",
    "            \n",
    "            # Transform the image using the current v_min and v_max\n",
    "            image3d = transform_hu_to_density(image3d, v_min=v_min, v_max=v_max)\n",
    "\n",
    "            # Render frontal view\n",
    "            output_frontal = fwd_renderer.forward(\n",
    "                image3d=image3d, \n",
    "                cameras=view_hidden, \n",
    "            ).clamp_(0, 1).squeeze().detach().cpu()\n",
    "            \n",
    "            output_frontal = (255 * output_frontal).astype(torch.uint8).unsqueeze(0)\n",
    "            \n",
    "            # Save frontal view image\n",
    "            filename_frontal = f\"win/ObjectCentricXRayFrontalImage_vmin_{v_min}_vmax_{v_max}.jpg\"\n",
    "            torchvision.io.write_jpeg(output_frontal, filename_frontal)\n",
    "\n",
    "            # Render lateral view\n",
    "            output_lateral = fwd_renderer.forward(\n",
    "                image3d=image3d, \n",
    "                cameras=view_lateral, \n",
    "            ).clamp_(0, 1).squeeze().detach().cpu()\n",
    "            \n",
    "            output_lateral = (255 * output_lateral).astype(torch.uint8).unsqueeze(0)\n",
    "            \n",
    "            # Save lateral view image\n",
    "            filename_lateral = f\"win/ObjectCentricXRayLateralImage_vmin_{v_min}_vmax_{v_max}.jpg\"\n",
    "            torchvision.io.write_jpeg(output_lateral, filename_lateral)\n",
    "\n",
    "            del data \n",
    "        except RuntimeError as e:\n",
    "            if \"Expected reduction dim to be specified\" in str(e):\n",
    "                print(f\"Skipping due to RuntimeError: {e}\")\n",
    "                continue  # Skip this iteration and continue with the next one\n",
    "            else:\n",
    "                raise  # Re-raise the exception if it's not the one we're handling\n",
    "        \n",
    "print(\"Rendering complete for all specified v_min and v_max values.\")"
   ]
  }
 ],
 "metadata": {
  "kernelspec": {
   "display_name": "py310",
   "language": "python",
   "name": "python3"
  },
  "language_info": {
   "codemirror_mode": {
    "name": "ipython",
    "version": 3
   },
   "file_extension": ".py",
   "mimetype": "text/x-python",
   "name": "python",
   "nbconvert_exporter": "python",
   "pygments_lexer": "ipython3",
   "version": "3.10.14"
  }
 },
 "nbformat": 4,
 "nbformat_minor": 2
}
